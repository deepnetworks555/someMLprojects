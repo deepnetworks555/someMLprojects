{
 "cells": [
  {
   "cell_type": "code",
   "execution_count": 2,
   "metadata": {},
   "outputs": [
    {
     "name": "stderr",
     "output_type": "stream",
     "text": [
      "/var/web_services/galaxy/jupyter_conda/envs/tensorflow/lib/python3.6/site-packages/h5py/__init__.py:36: FutureWarning: Conversion of the second argument of issubdtype from `float` to `np.floating` is deprecated. In future, it will be treated as `np.float64 == np.dtype(float).type`.\n",
      "  from ._conv import register_converters as _register_converters\n",
      "Using TensorFlow backend.\n"
     ]
    }
   ],
   "source": [
    "from __future__ import print_function\n",
    "import os\n",
    "from PIL import Image\n",
    "import numpy as np\n",
    "import tensorflow as tf\n",
    "from keras.models import Model\n",
    "from keras.models import Sequential\n",
    "from keras.layers import Input, concatenate, Conv2D, MaxPooling2D, Conv2DTranspose, Flatten, Dense, UpSampling2D,Dropout,BatchNormalization,Activation\n",
    "from keras.optimizers import Adam\n",
    "from keras.callbacks import EarlyStopping, ModelCheckpoint, ReduceLROnPlateau\n",
    "from keras import backend as K\n",
    "from keras.preprocessing.image import ImageDataGenerator\n",
    "from keras.utils.np_utils import to_categorical\n",
    "import iou"
   ]
  },
  {
   "cell_type": "code",
   "execution_count": 3,
   "metadata": {},
   "outputs": [],
   "source": [
    "from numpy.random import seed\n",
    "seed(13)\n",
    "from tensorflow import set_random_seed\n",
    "set_random_seed(22)"
   ]
  },
  {
   "cell_type": "code",
   "execution_count": 5,
   "metadata": {},
   "outputs": [
    {
     "name": "stdout",
     "output_type": "stream",
     "text": [
      "loading data...\n"
     ]
    }
   ],
   "source": [
    "print('loading data...')\n",
    "data_imgs = np.load('imgs_train.npy')\n",
    "data_masks = np.load('imgs_mask_train.npy')\n",
    "\n",
    "\n",
    "data_imgs = data_imgs[:,:,:,np.newaxis]\n",
    "data_masks = data_masks[:,:,:,np.newaxis]\n",
    "\n",
    "data_imgs = data_imgs.astype('float32')\n",
    "data_imgs /=255.0\n",
    "\n",
    "data_masks = data_masks.astype('float32')\n",
    "data_masks /=255.0\n",
    "\n",
    "\n",
    "\n"
   ]
  },
  {
   "cell_type": "code",
   "execution_count": null,
   "metadata": {},
   "outputs": [],
   "source": [
    "data_masks=to_categorical(data_masks, num_classes=2)"
   ]
  },
  {
   "cell_type": "code",
   "execution_count": 6,
   "metadata": {},
   "outputs": [
    {
     "data": {
      "text/plain": [
       "(3920, 128, 128, 1)"
      ]
     },
     "execution_count": 6,
     "metadata": {},
     "output_type": "execute_result"
    }
   ],
   "source": [
    "data_masks.shape"
   ]
  },
  {
   "cell_type": "code",
   "execution_count": 20,
   "metadata": {},
   "outputs": [
    {
     "name": "stdout",
     "output_type": "stream",
     "text": [
      "0.25301554154376593\n"
     ]
    }
   ],
   "source": [
    "all_elments= data_masks.shape[0]* data_masks.shape[1]* data_masks.shape[1]* data_masks.shape[3]\n",
    "nonzeroo = np.count_nonzero(data_masks)\n",
    "ratio=nonzeroo/all_elments\n",
    "print(ratio)"
   ]
  },
  {
   "cell_type": "code",
   "execution_count": null,
   "metadata": {},
   "outputs": [],
   "source": []
  },
  {
   "cell_type": "code",
   "execution_count": null,
   "metadata": {},
   "outputs": [],
   "source": [
    "train_imgs, valid_imgs, train_masks, valid_masks = train_test_split(data_imgs, data_masks, test_size=0.2, random_state=54)"
   ]
  },
  {
   "cell_type": "code",
   "execution_count": null,
   "metadata": {},
   "outputs": [],
   "source": []
  },
  {
   "cell_type": "code",
   "execution_count": null,
   "metadata": {},
   "outputs": [],
   "source": [
    "def conv_bn_relu(num_filters, input_features):\n",
    "    \n",
    "    output_features = Conv2D(num_filters, (3, 3), padding=\"same\")(input_features)\n",
    "    output_features = BatchNormalization()(output_features)\n",
    "    output_features = Activation('relu')(output_features)\n",
    "    \n",
    "    output_features = Conv2D(num_filters, (3, 3), padding=\"same\")(output_features)\n",
    "    output_features = BatchNormalization()(output_features)\n",
    "    output_features = Activation('relu')(output_features)\n",
    "    \n",
    "    return output_features\n",
    "\n",
    "\n",
    "def uconv_bn_relu(num_filters, input_features, conv_layer):\n",
    "    \n",
    "    deconv = Conv2DTranspose(num_filters, (3, 3), strides=(2, 2), padding=\"same\")(input_features)\n",
    "    uconv = concatenate([deconv, conv_layer])\n",
    "    uconv = Dropout(0.5)(uconv)\n",
    "    uconv = Conv2D(num_filters, (3, 3), activation=\"relu\", padding=\"same\")(uconv)\n",
    "    output_features = Conv2D(num_filters, (3, 3), activation=\"relu\", padding=\"same\")(uconv)\n",
    "    \n",
    "    return output_features\n",
    "\n",
    "\n",
    "def model_arch(input_layer):\n",
    "    \n",
    "    start_neurons=16\n",
    "    \n",
    "    conv1 = conv_bn_relu(start_neurons * 1,input_layer)\n",
    "    pool1 = MaxPooling2D((2, 2))(conv1)\n",
    "    pool1 = Dropout(0.25)(pool1)\n",
    "\n",
    "    # 64 -> 32\n",
    "    conv2 = conv_bn_relu(start_neurons * 2,pool1)\n",
    "    pool2 = MaxPooling2D((2, 2))(conv2)\n",
    "    pool2 = Dropout(0.5)(pool2)\n",
    "\n",
    "    # 32 -> 16\n",
    "    conv3 = conv_bn_relu(start_neurons * 4,pool2)\n",
    "    pool3 = MaxPooling2D((2, 2))(conv3)\n",
    "    pool3 = Dropout(0.5)(pool3)\n",
    "\n",
    "    # 16 -> 8\n",
    "    conv4 = conv_bn_relu(start_neurons * 8,pool3)\n",
    "    pool4 = MaxPooling2D((2, 2))(conv4)\n",
    "    pool4 = Dropout(0.5)(pool4)\n",
    "\n",
    "    # Middle\n",
    "    convm = conv_bn_relu(start_neurons * 4,pool4)\n",
    "\n",
    "    # 8 -> 16\n",
    "    uconv4 = uconv_bn_relu(start_neurons * 8, convm, conv4)\n",
    "\n",
    "\n",
    "    # 16 -> 32\n",
    "    uconv3 = uconv_bn_relu(start_neurons * 4, uconv4, conv3)\n",
    "\n",
    "    # 32 -> 64\n",
    "    uconv2 = uconv_bn_relu(start_neurons * 2, uconv3, conv2)\n",
    "\n",
    "    # 64 -> 128\n",
    "    uconv1 = uconv_bn_relu(start_neurons * 1, uconv2, conv1)\n",
    "\n",
    "    #uconv1 = Dropout(0.5)(uconv1)\n",
    "    output_layer = Conv2D(2, (1,1), padding=\"same\", activation=\"softmax\")(uconv1)\n",
    "    \n",
    "    \n",
    "    return output_layer\n",
    "\n",
    "input_layer=Input(shape=(128,128,1))\n",
    "output_layer=model_arch(input_layer)\n",
    "\n",
    "model=Model(inputs=input_layer,outputs=output_layer)"
   ]
  },
  {
   "cell_type": "code",
   "execution_count": null,
   "metadata": {},
   "outputs": [],
   "source": [
    "model.summary()"
   ]
  },
  {
   "cell_type": "code",
   "execution_count": null,
   "metadata": {},
   "outputs": [],
   "source": []
  },
  {
   "cell_type": "code",
   "execution_count": null,
   "metadata": {},
   "outputs": [],
   "source": []
  },
  {
   "cell_type": "code",
   "execution_count": 4,
   "metadata": {},
   "outputs": [
    {
     "ename": "NameError",
     "evalue": "name 'model' is not defined",
     "output_type": "error",
     "traceback": [
      "\u001b[0;31m---------------------------------------------------------------------------\u001b[0m",
      "\u001b[0;31mNameError\u001b[0m                                 Traceback (most recent call last)",
      "\u001b[0;32m<ipython-input-4-4d40d7211237>\u001b[0m in \u001b[0;36m<module>\u001b[0;34m()\u001b[0m\n\u001b[0;32m----> 1\u001b[0;31m \u001b[0mmodel\u001b[0m\u001b[0;34m.\u001b[0m\u001b[0mcompile\u001b[0m\u001b[0;34m(\u001b[0m\u001b[0moptimizer\u001b[0m\u001b[0;34m=\u001b[0m\u001b[0mAdam\u001b[0m\u001b[0;34m(\u001b[0m\u001b[0mlr\u001b[0m\u001b[0;34m=\u001b[0m\u001b[0;36m0.001\u001b[0m\u001b[0;34m)\u001b[0m\u001b[0;34m,\u001b[0m \u001b[0mloss\u001b[0m\u001b[0;34m=\u001b[0m\u001b[0;34m'binary_crossentropy'\u001b[0m\u001b[0;34m,\u001b[0m \u001b[0mmetrics\u001b[0m\u001b[0;34m=\u001b[0m\u001b[0;34m[\u001b[0m\u001b[0mmean_iou\u001b[0m\u001b[0;34m]\u001b[0m\u001b[0;34m)\u001b[0m\u001b[0;34m\u001b[0m\u001b[0m\n\u001b[0m",
      "\u001b[0;31mNameError\u001b[0m: name 'model' is not defined"
     ]
    }
   ],
   "source": [
    "model.compile(optimizer=Adam(lr=0.001), loss='categorical_crossentropy', metrics=[mean_iou])"
   ]
  },
  {
   "cell_type": "code",
   "execution_count": null,
   "metadata": {},
   "outputs": [],
   "source": [
    "early_stopping = EarlyStopping(min_delta=0, patience=20, verbose=1)\n",
    "model_checkpoint = ModelCheckpoint(\"checkpoint/keras.model\", monitor='val_loss', save_best_only=True, verbose=1)\n",
    "reduce_lr = ReduceLROnPlateau(monitor='val_loss', factor=0.1, patience=10, verbose=1, mode='auto', min_delta=0.0001, cooldown=0, min_lr=0)"
   ]
  },
  {
   "cell_type": "code",
   "execution_count": null,
   "metadata": {},
   "outputs": [],
   "source": []
  },
  {
   "cell_type": "code",
   "execution_count": null,
   "metadata": {},
   "outputs": [],
   "source": [
    "batchsize=32\n",
    "# we create two instances with the same arguments\n",
    "data_gen_args = dict(horizontal_flip=True,\n",
    "                     vertical_flip=True)\n",
    "\n",
    "data_gen_args = dict(horizontal_flip=True,\n",
    "                     vertical_flip=True)\n",
    "image_datagen = ImageDataGenerator(**data_gen_args)\n",
    "mask_datagen = ImageDataGenerator(**data_gen_args)\n",
    "\n",
    "# Provide the same seed and keyword arguments to the fit and flow methods\n",
    "seed = 1\n",
    "\n",
    "image_generator = image_datagen.flow(train_imgs, seed=seed, batch_size=batchsize, shuffle=True)\n",
    "mask_generator = mask_datagen.flow(train_masks, seed=seed, batch_size=batchsize, shuffle=True)\n",
    "\n",
    "\n",
    "# Just zip the two generators to get a generator that provides augmented images and masks at the same time\n",
    "train_generator = zip(image_generator, mask_generator)\n",
    "\n",
    "\n",
    "# combine generators into one which yields image and masks\n",
    "train_generator = zip(image_generator, mask_generator)\n",
    "\n",
    "steps_epoch=np.ceil(len(train_imgs)/batchsize)\n",
    "\n",
    "model.fit_generator(\n",
    "    train_generator,\n",
    "    steps_per_epoch=steps_epoch,\n",
    "    validation_data = (valid_imgs, valid_masks),\n",
    "    verbose=1,\n",
    "    callbacks=[early_stopping, model_checkpoint, reduce_lr],\n",
    "    initial_epoch=0,\n",
    "    epochs=200)"
   ]
  },
  {
   "cell_type": "code",
   "execution_count": null,
   "metadata": {},
   "outputs": [],
   "source": []
  },
  {
   "cell_type": "code",
   "execution_count": 7,
   "metadata": {},
   "outputs": [
    {
     "name": "stdout",
     "output_type": "stream",
     "text": [
      "_________________________________________________________________\n",
      "Layer (type)                 Output Shape              Param #   \n",
      "=================================================================\n",
      "conv2d_25 (Conv2D)           (None, 50, 50, 64)        640       \n",
      "_________________________________________________________________\n",
      "activation_23 (Activation)   (None, 50, 50, 64)        0         \n",
      "_________________________________________________________________\n",
      "conv2d_26 (Conv2D)           (None, 50, 50, 64)        36928     \n",
      "_________________________________________________________________\n",
      "batch_normalization_21 (Batc (None, 50, 50, 64)        256       \n",
      "_________________________________________________________________\n",
      "activation_24 (Activation)   (None, 50, 50, 64)        0         \n",
      "_________________________________________________________________\n",
      "conv2d_27 (Conv2D)           (None, 50, 50, 64)        36928     \n",
      "_________________________________________________________________\n",
      "batch_normalization_22 (Batc (None, 50, 50, 64)        256       \n",
      "_________________________________________________________________\n",
      "activation_25 (Activation)   (None, 50, 50, 64)        0         \n",
      "_________________________________________________________________\n",
      "conv2d_28 (Conv2D)           (None, 50, 50, 64)        36928     \n",
      "_________________________________________________________________\n",
      "batch_normalization_23 (Batc (None, 50, 50, 64)        256       \n",
      "_________________________________________________________________\n",
      "activation_26 (Activation)   (None, 50, 50, 64)        0         \n",
      "_________________________________________________________________\n",
      "conv2d_29 (Conv2D)           (None, 50, 50, 64)        36928     \n",
      "_________________________________________________________________\n",
      "batch_normalization_24 (Batc (None, 50, 50, 64)        256       \n",
      "_________________________________________________________________\n",
      "activation_27 (Activation)   (None, 50, 50, 64)        0         \n",
      "_________________________________________________________________\n",
      "conv2d_30 (Conv2D)           (None, 50, 50, 64)        36928     \n",
      "_________________________________________________________________\n",
      "batch_normalization_25 (Batc (None, 50, 50, 64)        256       \n",
      "_________________________________________________________________\n",
      "activation_28 (Activation)   (None, 50, 50, 64)        0         \n",
      "_________________________________________________________________\n",
      "conv2d_31 (Conv2D)           (None, 50, 50, 1)         577       \n",
      "=================================================================\n",
      "Total params: 187,137\n",
      "Trainable params: 186,497\n",
      "Non-trainable params: 640\n",
      "_________________________________________________________________\n"
     ]
    }
   ],
   "source": [
    "model=Sequential()\n",
    "model.add(Conv2D(64,(3,3),padding=\"same\",input_shape=(50,50,1)))\n",
    "model.add(Activation('relu'))\n",
    "for layers in range(2,6+1):\n",
    "    model.add(Conv2D(64,(3,3),padding=\"same\"))\n",
    "    model.add(BatchNormalization())\n",
    "    model.add(Activation('relu'))\n",
    "model.add(Conv2D(1,(3,3),padding=\"same\"))\n",
    "\n",
    "model.summary()"
   ]
  },
  {
   "cell_type": "code",
   "execution_count": null,
   "metadata": {},
   "outputs": [],
   "source": []
  },
  {
   "cell_type": "code",
   "execution_count": 18,
   "metadata": {},
   "outputs": [
    {
     "name": "stdout",
     "output_type": "stream",
     "text": [
      "(50, 6, 6, 2)\n",
      "[[0.55296593 0.38207445 0.33145426 0.89216627 0.69992017 0.76979006]\n",
      " [0.80534255 0.32598075 0.27239627 0.32862343 0.06330973 0.42069691]\n",
      " [0.34307432 0.91080512 0.84386402 0.06808622 0.11249593 0.16315418]\n",
      " [0.39309258 0.51620931 0.38883916 0.75895259 0.42118214 0.7937163 ]\n",
      " [0.2816211  0.0350621  0.5541956  0.10033414 0.27347248 0.35978725]\n",
      " [0.23783216 0.95056119 0.28850725 0.29659225 0.88866017 0.5402182 ]]\n",
      "tessssssssss\n",
      "[[0.34237716 0.30928394 0.58748592 0.71396289 0.75074721 0.5922782 ]\n",
      " [0.96137438 0.11365227 0.5898658  0.63209257 0.43965834 0.59344017]\n",
      " [0.30706221 0.34398906 0.34526547 0.28123172 0.01518975 0.61411668]\n",
      " [0.58044593 0.9442891  0.98601995 0.4176912  0.28196191 0.80188866]\n",
      " [0.06370879 0.2743381  0.38497007 0.99214623 0.46733991 0.12106242]\n",
      " [0.22039253 0.39519491 0.48708852 0.21375736 0.67980787 0.94867926]]\n",
      "[[0. 0. 0. 1. 0. 0.]\n",
      " [1. 0. 0. 0. 0. 0.]\n",
      " [0. 1. 1. 0. 0. 0.]\n",
      " [0. 0. 0. 0. 0. 0.]\n",
      " [0. 0. 0. 0. 0. 0.]\n",
      " [0. 1. 0. 0. 1. 0.]]\n",
      "tessssssssss\n",
      "[[0. 0. 0. 0. 0. 0.]\n",
      " [1. 0. 0. 0. 0. 0.]\n",
      " [0. 0. 0. 0. 0. 0.]\n",
      " [0. 1. 1. 0. 0. 1.]\n",
      " [0. 0. 0. 1. 0. 0.]\n",
      " [0. 0. 0. 0. 0. 1.]]\n",
      "rrrrrrrrrrrrrrrrrrrrrrrrrrrrrrrrrrrrr\n",
      "[[0. 0. 0. 0. 0. 0.]\n",
      " [0. 0. 0. 0. 0. 0.]\n",
      " [0. 0. 0. 0. 0. 0.]\n",
      " [0. 1. 1. 0. 0. 1.]\n",
      " [0. 0. 0. 1. 0. 0.]\n",
      " [0. 0. 0. 0. 0. 1.]]\n",
      "(50, 6, 6, 1)\n"
     ]
    }
   ],
   "source": [
    "import numpy as np\n",
    "preds_test=np.random.rand(50,6,6,2)\n",
    "\n",
    "i=24\n",
    "print(preds_test.shape)\n",
    "print(preds_test[i,:,:,0])\n",
    "print('tessssssssss')\n",
    "print(preds_test[i,:,:,1])\n",
    "\n",
    "preds_test=np.round(preds_test>0.8)\n",
    "print(preds_test[i,:,:,0])\n",
    "print('tessssssssss')\n",
    "print(preds_test[i,:,:,1])\n",
    "\n",
    "\n",
    "merged_mask=np.zeros(shape=(50,6,6,1),dtype=np.float32)\n",
    "for ii in range(len(preds_test)):\n",
    "    ind=np.argmax(preds_test[ii], axis=2)\n",
    "    ind = ind[:,:,np.newaxis]\n",
    "    merged_mask[ii]=ind\n",
    "\n",
    "print('rrrrrrrrrrrrrrrrrrrrrrrrrrrrrrrrrrrrr')\n",
    "print(merged_mask[24,:,:,0])\n",
    "print(merged_mask.shape)"
   ]
  },
  {
   "cell_type": "code",
   "execution_count": 21,
   "metadata": {},
   "outputs": [
    {
     "data": {
      "text/plain": [
       "6"
      ]
     },
     "execution_count": 21,
     "metadata": {},
     "output_type": "execute_result"
    }
   ],
   "source": [
    "preds_test.shape[1]"
   ]
  },
  {
   "cell_type": "code",
   "execution_count": null,
   "metadata": {},
   "outputs": [],
   "source": []
  },
  {
   "cell_type": "code",
   "execution_count": null,
   "metadata": {},
   "outputs": [],
   "source": []
  },
  {
   "cell_type": "code",
   "execution_count": 5,
   "metadata": {},
   "outputs": [
    {
     "name": "stdout",
     "output_type": "stream",
     "text": [
      "_________________________________________________________________\n",
      "Layer (type)                 Output Shape              Param #   \n",
      "=================================================================\n",
      "input_2 (InputLayer)         (None, 512, 512, 1)       0         \n",
      "_________________________________________________________________\n",
      "conv2d_10 (Conv2D)           (None, 512, 512, 16)      160       \n",
      "_________________________________________________________________\n",
      "batch_normalization_9 (Batch (None, 512, 512, 16)      64        \n",
      "_________________________________________________________________\n",
      "activation_9 (Activation)    (None, 512, 512, 16)      0         \n",
      "_________________________________________________________________\n",
      "conv2d_11 (Conv2D)           (None, 512, 512, 16)      2320      \n",
      "_________________________________________________________________\n",
      "batch_normalization_10 (Batc (None, 512, 512, 16)      64        \n",
      "_________________________________________________________________\n",
      "activation_10 (Activation)   (None, 512, 512, 16)      0         \n",
      "_________________________________________________________________\n",
      "dropout_5 (Dropout)          (None, 512, 512, 16)      0         \n",
      "_________________________________________________________________\n",
      "conv2d_12 (Conv2D)           (None, 512, 512, 32)      4640      \n",
      "_________________________________________________________________\n",
      "batch_normalization_11 (Batc (None, 512, 512, 32)      128       \n",
      "_________________________________________________________________\n",
      "activation_11 (Activation)   (None, 512, 512, 32)      0         \n",
      "_________________________________________________________________\n",
      "conv2d_13 (Conv2D)           (None, 512, 512, 32)      9248      \n",
      "_________________________________________________________________\n",
      "batch_normalization_12 (Batc (None, 512, 512, 32)      128       \n",
      "_________________________________________________________________\n",
      "activation_12 (Activation)   (None, 512, 512, 32)      0         \n",
      "_________________________________________________________________\n",
      "dropout_6 (Dropout)          (None, 512, 512, 32)      0         \n",
      "_________________________________________________________________\n",
      "conv2d_14 (Conv2D)           (None, 512, 512, 64)      18496     \n",
      "_________________________________________________________________\n",
      "batch_normalization_13 (Batc (None, 512, 512, 64)      256       \n",
      "_________________________________________________________________\n",
      "activation_13 (Activation)   (None, 512, 512, 64)      0         \n",
      "_________________________________________________________________\n",
      "conv2d_15 (Conv2D)           (None, 512, 512, 64)      36928     \n",
      "_________________________________________________________________\n",
      "batch_normalization_14 (Batc (None, 512, 512, 64)      256       \n",
      "_________________________________________________________________\n",
      "activation_14 (Activation)   (None, 512, 512, 64)      0         \n",
      "_________________________________________________________________\n",
      "dropout_7 (Dropout)          (None, 512, 512, 64)      0         \n",
      "_________________________________________________________________\n",
      "conv2d_16 (Conv2D)           (None, 512, 512, 128)     73856     \n",
      "_________________________________________________________________\n",
      "batch_normalization_15 (Batc (None, 512, 512, 128)     512       \n",
      "_________________________________________________________________\n",
      "activation_15 (Activation)   (None, 512, 512, 128)     0         \n",
      "_________________________________________________________________\n",
      "conv2d_17 (Conv2D)           (None, 512, 512, 128)     147584    \n",
      "_________________________________________________________________\n",
      "batch_normalization_16 (Batc (None, 512, 512, 128)     512       \n",
      "_________________________________________________________________\n",
      "activation_16 (Activation)   (None, 512, 512, 128)     0         \n",
      "_________________________________________________________________\n",
      "dropout_8 (Dropout)          (None, 512, 512, 128)     0         \n",
      "_________________________________________________________________\n",
      "conv2d_18 (Conv2D)           (None, 512, 512, 1)       129       \n",
      "=================================================================\n",
      "Total params: 295,281\n",
      "Trainable params: 294,321\n",
      "Non-trainable params: 960\n",
      "_________________________________________________________________\n"
     ]
    }
   ],
   "source": [
    "def conv_bn_relu(num_filters, input_features):\n",
    "    \n",
    "    output_features = Conv2D(num_filters, (3, 3), strides=(1,1), padding=\"same\")(input_features)\n",
    "    output_features = BatchNormalization()(output_features)\n",
    "    output_features = Activation('relu')(output_features)\n",
    "    \n",
    "    output_features = Conv2D(num_filters, (3, 3), padding=\"same\")(output_features)\n",
    "    output_features = BatchNormalization()(output_features)\n",
    "    output_features = Activation('relu')(output_features)\n",
    "    \n",
    "    return output_features\n",
    "\n",
    "\n",
    "def uconv_bn_relu(num_filters, input_features, conv_layer):\n",
    "    \n",
    "    deconv = Conv2DTranspose(num_filters, (3, 3), strides=(2, 2), padding=\"same\")(input_features)\n",
    "    uconv = concatenate([deconv, conv_layer])\n",
    "    uconv = Dropout(0.5)(uconv)\n",
    "    uconv = Conv2D(num_filters, (3, 3), activation=\"relu\", padding=\"same\")(uconv)\n",
    "    output_features = Conv2D(num_filters, (3, 3), activation=\"relu\", padding=\"same\")(uconv)\n",
    "    \n",
    "    return output_features\n",
    "\n",
    "\n",
    "def model_arch(input_layer):\n",
    "    \n",
    "    start_neurons=16\n",
    "    \n",
    "    conv1 = conv_bn_relu(start_neurons * 1,input_layer)\n",
    "    #pool1 = MaxPooling2D((2, 2))(conv1)\n",
    "    pool1 = Dropout(0.25)(conv1)\n",
    "\n",
    "    # 64 -> 32\n",
    "    conv2 = conv_bn_relu(start_neurons * 2,pool1)\n",
    "    #pool2 = MaxPooling2D((2, 2))(conv2)\n",
    "    pool2 = Dropout(0.5)(conv2)\n",
    "\n",
    "    # 32 -> 16\n",
    "    conv3 = conv_bn_relu(start_neurons * 4,pool2)\n",
    "    #pool3 = MaxPooling2D((2, 2))(conv3)\n",
    "    pool3 = Dropout(0.5)(conv3)\n",
    "\n",
    "    # 16 -> 8\n",
    "    conv4 = conv_bn_relu(start_neurons * 8,pool3)\n",
    "    #pool4 = MaxPooling2D((2, 2))(conv4)\n",
    "    pool4 = Dropout(0.5)(conv4)\n",
    "\n",
    "\n",
    "\n",
    "    #uconv1 = Dropout(0.5)(uconv1)\n",
    "    output_layer = Conv2D(1, (1,1), padding=\"same\")(pool4)\n",
    "    \n",
    "  \n",
    "    return output_layer\n",
    "\n",
    "input_layer=Input(shape=(512,512,1))\n",
    "output_layer=model_arch(input_layer)\n",
    "\n",
    "model=Model(inputs=input_layer,outputs=output_layer)\n",
    "\n",
    "\n",
    "# In[ ]:\n",
    "\n",
    "\n",
    "model.summary()"
   ]
  },
  {
   "cell_type": "code",
   "execution_count": null,
   "metadata": {},
   "outputs": [],
   "source": []
  }
 ],
 "metadata": {
  "kernelspec": {
   "display_name": "Python 3 - Tensorflow",
   "language": "python",
   "name": "python3-tensorflow"
  },
  "language_info": {
   "codemirror_mode": {
    "name": "ipython",
    "version": 3
   },
   "file_extension": ".py",
   "mimetype": "text/x-python",
   "name": "python",
   "nbconvert_exporter": "python",
   "pygments_lexer": "ipython3",
   "version": "3.6.5"
  }
 },
 "nbformat": 4,
 "nbformat_minor": 2
}
