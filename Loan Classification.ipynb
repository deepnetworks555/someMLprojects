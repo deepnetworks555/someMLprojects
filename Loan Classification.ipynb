{
 "cells": [
  {
   "cell_type": "markdown",
   "metadata": {},
   "source": [
    "Steps for building the classification model\n",
    "1. Gathering and loading data\n",
    "2. Data cleaning\n",
    "3. Data visualization\n",
    "4. Data preparation & transformation\n",
    "5. Model training\n",
    "6. Model evaluation"
   ]
  },
  {
   "cell_type": "code",
   "execution_count": 1,
   "metadata": {},
   "outputs": [],
   "source": [
    "import numpy as np\n",
    "import pandas as pd\n",
    "import seaborn as sns\n",
    "import matplotlib.pyplot as plt\n",
    "from sklearn.model_selection import train_test_split\n",
    "from sklearn.pipeline import Pipeline\n",
    "from sklearn.preprocessing import StandardScaler\n",
    "from sklearn.metrics import confusion_matrix,classification_report"
   ]
  },
  {
   "cell_type": "code",
   "execution_count": 2,
   "metadata": {},
   "outputs": [],
   "source": [
    "#import the data\n",
    "df=pd.read_csv('loan_data.csv')"
   ]
  },
  {
   "cell_type": "code",
   "execution_count": 3,
   "metadata": {},
   "outputs": [
    {
     "data": {
      "text/html": [
       "<div>\n",
       "<style scoped>\n",
       "    .dataframe tbody tr th:only-of-type {\n",
       "        vertical-align: middle;\n",
       "    }\n",
       "\n",
       "    .dataframe tbody tr th {\n",
       "        vertical-align: top;\n",
       "    }\n",
       "\n",
       "    .dataframe thead th {\n",
       "        text-align: right;\n",
       "    }\n",
       "</style>\n",
       "<table border=\"1\" class=\"dataframe\">\n",
       "  <thead>\n",
       "    <tr style=\"text-align: right;\">\n",
       "      <th></th>\n",
       "      <th>credit.policy</th>\n",
       "      <th>purpose</th>\n",
       "      <th>int.rate</th>\n",
       "      <th>installment</th>\n",
       "      <th>log.annual.inc</th>\n",
       "      <th>dti</th>\n",
       "      <th>fico</th>\n",
       "      <th>days.with.cr.line</th>\n",
       "      <th>revol.bal</th>\n",
       "      <th>revol.util</th>\n",
       "      <th>inq.last.6mths</th>\n",
       "      <th>delinq.2yrs</th>\n",
       "      <th>pub.rec</th>\n",
       "      <th>not.fully.paid</th>\n",
       "    </tr>\n",
       "  </thead>\n",
       "  <tbody>\n",
       "    <tr>\n",
       "      <th>0</th>\n",
       "      <td>1</td>\n",
       "      <td>debt_consolidation</td>\n",
       "      <td>0.1189</td>\n",
       "      <td>829.10</td>\n",
       "      <td>11.350407</td>\n",
       "      <td>19.48</td>\n",
       "      <td>737</td>\n",
       "      <td>5639.958333</td>\n",
       "      <td>28854</td>\n",
       "      <td>52.1</td>\n",
       "      <td>0</td>\n",
       "      <td>0</td>\n",
       "      <td>0</td>\n",
       "      <td>0</td>\n",
       "    </tr>\n",
       "    <tr>\n",
       "      <th>1</th>\n",
       "      <td>1</td>\n",
       "      <td>credit_card</td>\n",
       "      <td>0.1071</td>\n",
       "      <td>228.22</td>\n",
       "      <td>11.082143</td>\n",
       "      <td>14.29</td>\n",
       "      <td>707</td>\n",
       "      <td>2760.000000</td>\n",
       "      <td>33623</td>\n",
       "      <td>76.7</td>\n",
       "      <td>0</td>\n",
       "      <td>0</td>\n",
       "      <td>0</td>\n",
       "      <td>0</td>\n",
       "    </tr>\n",
       "    <tr>\n",
       "      <th>2</th>\n",
       "      <td>1</td>\n",
       "      <td>debt_consolidation</td>\n",
       "      <td>0.1357</td>\n",
       "      <td>366.86</td>\n",
       "      <td>10.373491</td>\n",
       "      <td>11.63</td>\n",
       "      <td>682</td>\n",
       "      <td>4710.000000</td>\n",
       "      <td>3511</td>\n",
       "      <td>25.6</td>\n",
       "      <td>1</td>\n",
       "      <td>0</td>\n",
       "      <td>0</td>\n",
       "      <td>0</td>\n",
       "    </tr>\n",
       "    <tr>\n",
       "      <th>3</th>\n",
       "      <td>1</td>\n",
       "      <td>debt_consolidation</td>\n",
       "      <td>0.1008</td>\n",
       "      <td>162.34</td>\n",
       "      <td>11.350407</td>\n",
       "      <td>8.10</td>\n",
       "      <td>712</td>\n",
       "      <td>2699.958333</td>\n",
       "      <td>33667</td>\n",
       "      <td>73.2</td>\n",
       "      <td>1</td>\n",
       "      <td>0</td>\n",
       "      <td>0</td>\n",
       "      <td>0</td>\n",
       "    </tr>\n",
       "    <tr>\n",
       "      <th>4</th>\n",
       "      <td>1</td>\n",
       "      <td>credit_card</td>\n",
       "      <td>0.1426</td>\n",
       "      <td>102.92</td>\n",
       "      <td>11.299732</td>\n",
       "      <td>14.97</td>\n",
       "      <td>667</td>\n",
       "      <td>4066.000000</td>\n",
       "      <td>4740</td>\n",
       "      <td>39.5</td>\n",
       "      <td>0</td>\n",
       "      <td>1</td>\n",
       "      <td>0</td>\n",
       "      <td>0</td>\n",
       "    </tr>\n",
       "  </tbody>\n",
       "</table>\n",
       "</div>"
      ],
      "text/plain": [
       "   credit.policy             purpose  int.rate  installment  log.annual.inc  \\\n",
       "0              1  debt_consolidation    0.1189       829.10       11.350407   \n",
       "1              1         credit_card    0.1071       228.22       11.082143   \n",
       "2              1  debt_consolidation    0.1357       366.86       10.373491   \n",
       "3              1  debt_consolidation    0.1008       162.34       11.350407   \n",
       "4              1         credit_card    0.1426       102.92       11.299732   \n",
       "\n",
       "     dti  fico  days.with.cr.line  revol.bal  revol.util  inq.last.6mths  \\\n",
       "0  19.48   737        5639.958333      28854        52.1               0   \n",
       "1  14.29   707        2760.000000      33623        76.7               0   \n",
       "2  11.63   682        4710.000000       3511        25.6               1   \n",
       "3   8.10   712        2699.958333      33667        73.2               1   \n",
       "4  14.97   667        4066.000000       4740        39.5               0   \n",
       "\n",
       "   delinq.2yrs  pub.rec  not.fully.paid  \n",
       "0            0        0               0  \n",
       "1            0        0               0  \n",
       "2            0        0               0  \n",
       "3            0        0               0  \n",
       "4            1        0               0  "
      ]
     },
     "execution_count": 3,
     "metadata": {},
     "output_type": "execute_result"
    }
   ],
   "source": [
    "df.head()"
   ]
  },
  {
   "cell_type": "code",
   "execution_count": 4,
   "metadata": {},
   "outputs": [
    {
     "data": {
      "text/plain": [
       "0    8045\n",
       "1    1533\n",
       "Name: not.fully.paid, dtype: int64"
      ]
     },
     "execution_count": 4,
     "metadata": {},
     "output_type": "execute_result"
    }
   ],
   "source": [
    "#check data balance\n",
    "df['not.fully.paid'].value_counts()"
   ]
  },
  {
   "cell_type": "code",
   "execution_count": 5,
   "metadata": {},
   "outputs": [
    {
     "data": {
      "text/plain": [
       "1    7710\n",
       "0    1868\n",
       "Name: credit.policy, dtype: int64"
      ]
     },
     "execution_count": 5,
     "metadata": {},
     "output_type": "execute_result"
    }
   ],
   "source": [
    "df['credit.policy'].value_counts()"
   ]
  },
  {
   "cell_type": "code",
   "execution_count": 6,
   "metadata": {},
   "outputs": [
    {
     "data": {
      "text/plain": [
       "credit.policy        0\n",
       "purpose              0\n",
       "int.rate             0\n",
       "installment          0\n",
       "log.annual.inc       0\n",
       "dti                  0\n",
       "fico                 0\n",
       "days.with.cr.line    0\n",
       "revol.bal            0\n",
       "revol.util           0\n",
       "inq.last.6mths       0\n",
       "delinq.2yrs          0\n",
       "pub.rec              0\n",
       "not.fully.paid       0\n",
       "dtype: int64"
      ]
     },
     "execution_count": 6,
     "metadata": {},
     "output_type": "execute_result"
    }
   ],
   "source": [
    "#check missing values and outliers\n",
    "df.isnull().sum()"
   ]
  },
  {
   "cell_type": "code",
   "execution_count": null,
   "metadata": {},
   "outputs": [],
   "source": []
  },
  {
   "cell_type": "code",
   "execution_count": 7,
   "metadata": {},
   "outputs": [
    {
     "data": {
      "text/html": [
       "<div>\n",
       "<style scoped>\n",
       "    .dataframe tbody tr th:only-of-type {\n",
       "        vertical-align: middle;\n",
       "    }\n",
       "\n",
       "    .dataframe tbody tr th {\n",
       "        vertical-align: top;\n",
       "    }\n",
       "\n",
       "    .dataframe thead th {\n",
       "        text-align: right;\n",
       "    }\n",
       "</style>\n",
       "<table border=\"1\" class=\"dataframe\">\n",
       "  <thead>\n",
       "    <tr style=\"text-align: right;\">\n",
       "      <th></th>\n",
       "      <th>credit.policy</th>\n",
       "      <th>int.rate</th>\n",
       "      <th>installment</th>\n",
       "      <th>log.annual.inc</th>\n",
       "      <th>dti</th>\n",
       "      <th>fico</th>\n",
       "      <th>days.with.cr.line</th>\n",
       "      <th>revol.bal</th>\n",
       "      <th>revol.util</th>\n",
       "      <th>inq.last.6mths</th>\n",
       "      <th>delinq.2yrs</th>\n",
       "      <th>pub.rec</th>\n",
       "      <th>not.fully.paid</th>\n",
       "    </tr>\n",
       "  </thead>\n",
       "  <tbody>\n",
       "    <tr>\n",
       "      <th>count</th>\n",
       "      <td>9578.000000</td>\n",
       "      <td>9578.000000</td>\n",
       "      <td>9578.000000</td>\n",
       "      <td>9578.000000</td>\n",
       "      <td>9578.000000</td>\n",
       "      <td>9578.000000</td>\n",
       "      <td>9578.000000</td>\n",
       "      <td>9.578000e+03</td>\n",
       "      <td>9578.000000</td>\n",
       "      <td>9578.000000</td>\n",
       "      <td>9578.000000</td>\n",
       "      <td>9578.000000</td>\n",
       "      <td>9578.000000</td>\n",
       "    </tr>\n",
       "    <tr>\n",
       "      <th>mean</th>\n",
       "      <td>0.804970</td>\n",
       "      <td>0.122640</td>\n",
       "      <td>319.089413</td>\n",
       "      <td>10.932117</td>\n",
       "      <td>12.606679</td>\n",
       "      <td>710.846314</td>\n",
       "      <td>4560.767197</td>\n",
       "      <td>1.691396e+04</td>\n",
       "      <td>46.799236</td>\n",
       "      <td>1.577469</td>\n",
       "      <td>0.163708</td>\n",
       "      <td>0.062122</td>\n",
       "      <td>0.160054</td>\n",
       "    </tr>\n",
       "    <tr>\n",
       "      <th>std</th>\n",
       "      <td>0.396245</td>\n",
       "      <td>0.026847</td>\n",
       "      <td>207.071301</td>\n",
       "      <td>0.614813</td>\n",
       "      <td>6.883970</td>\n",
       "      <td>37.970537</td>\n",
       "      <td>2496.930377</td>\n",
       "      <td>3.375619e+04</td>\n",
       "      <td>29.014417</td>\n",
       "      <td>2.200245</td>\n",
       "      <td>0.546215</td>\n",
       "      <td>0.262126</td>\n",
       "      <td>0.366676</td>\n",
       "    </tr>\n",
       "    <tr>\n",
       "      <th>min</th>\n",
       "      <td>0.000000</td>\n",
       "      <td>0.060000</td>\n",
       "      <td>15.670000</td>\n",
       "      <td>7.547502</td>\n",
       "      <td>0.000000</td>\n",
       "      <td>612.000000</td>\n",
       "      <td>178.958333</td>\n",
       "      <td>0.000000e+00</td>\n",
       "      <td>0.000000</td>\n",
       "      <td>0.000000</td>\n",
       "      <td>0.000000</td>\n",
       "      <td>0.000000</td>\n",
       "      <td>0.000000</td>\n",
       "    </tr>\n",
       "    <tr>\n",
       "      <th>25%</th>\n",
       "      <td>1.000000</td>\n",
       "      <td>0.103900</td>\n",
       "      <td>163.770000</td>\n",
       "      <td>10.558414</td>\n",
       "      <td>7.212500</td>\n",
       "      <td>682.000000</td>\n",
       "      <td>2820.000000</td>\n",
       "      <td>3.187000e+03</td>\n",
       "      <td>22.600000</td>\n",
       "      <td>0.000000</td>\n",
       "      <td>0.000000</td>\n",
       "      <td>0.000000</td>\n",
       "      <td>0.000000</td>\n",
       "    </tr>\n",
       "    <tr>\n",
       "      <th>50%</th>\n",
       "      <td>1.000000</td>\n",
       "      <td>0.122100</td>\n",
       "      <td>268.950000</td>\n",
       "      <td>10.928884</td>\n",
       "      <td>12.665000</td>\n",
       "      <td>707.000000</td>\n",
       "      <td>4139.958333</td>\n",
       "      <td>8.596000e+03</td>\n",
       "      <td>46.300000</td>\n",
       "      <td>1.000000</td>\n",
       "      <td>0.000000</td>\n",
       "      <td>0.000000</td>\n",
       "      <td>0.000000</td>\n",
       "    </tr>\n",
       "    <tr>\n",
       "      <th>75%</th>\n",
       "      <td>1.000000</td>\n",
       "      <td>0.140700</td>\n",
       "      <td>432.762500</td>\n",
       "      <td>11.291293</td>\n",
       "      <td>17.950000</td>\n",
       "      <td>737.000000</td>\n",
       "      <td>5730.000000</td>\n",
       "      <td>1.824950e+04</td>\n",
       "      <td>70.900000</td>\n",
       "      <td>2.000000</td>\n",
       "      <td>0.000000</td>\n",
       "      <td>0.000000</td>\n",
       "      <td>0.000000</td>\n",
       "    </tr>\n",
       "    <tr>\n",
       "      <th>max</th>\n",
       "      <td>1.000000</td>\n",
       "      <td>0.216400</td>\n",
       "      <td>940.140000</td>\n",
       "      <td>14.528354</td>\n",
       "      <td>29.960000</td>\n",
       "      <td>827.000000</td>\n",
       "      <td>17639.958330</td>\n",
       "      <td>1.207359e+06</td>\n",
       "      <td>119.000000</td>\n",
       "      <td>33.000000</td>\n",
       "      <td>13.000000</td>\n",
       "      <td>5.000000</td>\n",
       "      <td>1.000000</td>\n",
       "    </tr>\n",
       "  </tbody>\n",
       "</table>\n",
       "</div>"
      ],
      "text/plain": [
       "       credit.policy     int.rate  installment  log.annual.inc          dti  \\\n",
       "count    9578.000000  9578.000000  9578.000000     9578.000000  9578.000000   \n",
       "mean        0.804970     0.122640   319.089413       10.932117    12.606679   \n",
       "std         0.396245     0.026847   207.071301        0.614813     6.883970   \n",
       "min         0.000000     0.060000    15.670000        7.547502     0.000000   \n",
       "25%         1.000000     0.103900   163.770000       10.558414     7.212500   \n",
       "50%         1.000000     0.122100   268.950000       10.928884    12.665000   \n",
       "75%         1.000000     0.140700   432.762500       11.291293    17.950000   \n",
       "max         1.000000     0.216400   940.140000       14.528354    29.960000   \n",
       "\n",
       "              fico  days.with.cr.line     revol.bal   revol.util  \\\n",
       "count  9578.000000        9578.000000  9.578000e+03  9578.000000   \n",
       "mean    710.846314        4560.767197  1.691396e+04    46.799236   \n",
       "std      37.970537        2496.930377  3.375619e+04    29.014417   \n",
       "min     612.000000         178.958333  0.000000e+00     0.000000   \n",
       "25%     682.000000        2820.000000  3.187000e+03    22.600000   \n",
       "50%     707.000000        4139.958333  8.596000e+03    46.300000   \n",
       "75%     737.000000        5730.000000  1.824950e+04    70.900000   \n",
       "max     827.000000       17639.958330  1.207359e+06   119.000000   \n",
       "\n",
       "       inq.last.6mths  delinq.2yrs      pub.rec  not.fully.paid  \n",
       "count     9578.000000  9578.000000  9578.000000     9578.000000  \n",
       "mean         1.577469     0.163708     0.062122        0.160054  \n",
       "std          2.200245     0.546215     0.262126        0.366676  \n",
       "min          0.000000     0.000000     0.000000        0.000000  \n",
       "25%          0.000000     0.000000     0.000000        0.000000  \n",
       "50%          1.000000     0.000000     0.000000        0.000000  \n",
       "75%          2.000000     0.000000     0.000000        0.000000  \n",
       "max         33.000000    13.000000     5.000000        1.000000  "
      ]
     },
     "execution_count": 7,
     "metadata": {},
     "output_type": "execute_result"
    }
   ],
   "source": [
    "df.describe()"
   ]
  },
  {
   "cell_type": "code",
   "execution_count": 8,
   "metadata": {},
   "outputs": [
    {
     "data": {
      "text/plain": [
       "<matplotlib.axes._subplots.AxesSubplot at 0x28370272940>"
      ]
     },
     "execution_count": 8,
     "metadata": {},
     "output_type": "execute_result"
    },
    {
     "data": {
      "image/png": "[encoded data removed]",
      "text/plain": [
       "<Figure size 936x936 with 2 Axes>"
      ]
     },
     "metadata": {
      "needs_background": "light"
     },
     "output_type": "display_data"
    }
   ],
   "source": [
    "plt.figure(figsize=(13,13))\n",
    "sns.heatmap(df.corr(), cmap='RdBu_r', annot=True)"
   ]
  },
  {
   "cell_type": "code",
   "execution_count": 9,
   "metadata": {},
   "outputs": [
    {
     "data": {
      "text/plain": [
       "<matplotlib.axes._subplots.AxesSubplot at 0x2837082f9e8>"
      ]
     },
     "execution_count": 9,
     "metadata": {},
     "output_type": "execute_result"
    },
    {
     "data": {
      "image/png": "[encoded data removed]",
      "text/plain": [
       "<Figure size 864x288 with 1 Axes>"
      ]
     },
     "metadata": {
      "needs_background": "light"
     },
     "output_type": "display_data"
    }
   ],
   "source": [
    "plt.figure(figsize=(12,4))\n",
    "sns.countplot(x='purpose',hue='not.fully.paid',data=df)"
   ]
  },
  {
   "cell_type": "code",
   "execution_count": 10,
   "metadata": {},
   "outputs": [
    {
     "data": {
      "text/plain": [
       "<matplotlib.legend.Legend at 0x2837041a4a8>"
      ]
     },
     "execution_count": 10,
     "metadata": {},
     "output_type": "execute_result"
    },
    {
     "data": {
      "image/png": "[encoded data removed]",
      "text/plain": [
       "<Figure size 432x288 with 1 Axes>"
      ]
     },
     "metadata": {
      "needs_background": "light"
     },
     "output_type": "display_data"
    }
   ],
   "source": [
    "# Subset the iris dataset by species\n",
    "notpaid = df[df['not.fully.paid'] == 1]\n",
    "paid =  df[df['not.fully.paid'] == 0]\n",
    "\n",
    "\n",
    "# Draw the two density plots\n",
    "ax = sns.kdeplot(notpaid.fico, notpaid['int.rate'],\n",
    "                 cmap=\"Reds\", shade=True, shade_lowest=False, color=\"r\", label='not paid')\n",
    "ax = sns.kdeplot(paid.fico,  paid['int.rate'],\n",
    "                 cmap=\"Blues\", shade=False, shade_lowest=False, color=\"b\", label='paid')\n",
    "\n",
    "ax.legend(loc='upper right')"
   ]
  },
  {
   "cell_type": "code",
   "execution_count": 11,
   "metadata": {},
   "outputs": [
    {
     "data": {
      "text/plain": [
       "<matplotlib.legend.Legend at 0x28370493dd8>"
      ]
     },
     "execution_count": 11,
     "metadata": {},
     "output_type": "execute_result"
    },
    {
     "data": {
      "image/png": "[encoded data removed]",
      "text/plain": [
       "<Figure size 432x288 with 1 Axes>"
      ]
     },
     "metadata": {
      "needs_background": "light"
     },
     "output_type": "display_data"
    }
   ],
   "source": [
    "# Subset the iris dataset by species\n",
    "notpaid = df[df['not.fully.paid'] == 1]\n",
    "paid =  df[df['not.fully.paid'] == 0]\n",
    "\n",
    "# Draw the two density plots\n",
    "ax = sns.kdeplot(notpaid.fico, notpaid['days.with.cr.line'],\n",
    "                 cmap=\"Reds\", shade=True, shade_lowest=False, color=\"r\", label='not paid')\n",
    "ax = sns.kdeplot(paid.fico,  paid['days.with.cr.line'],\n",
    "                 cmap=\"Blues\", shade=False, shade_lowest=False, color=\"b\", label='paid')\n",
    "\n",
    "ax.legend(loc='upper right')"
   ]
  },
  {
   "cell_type": "code",
   "execution_count": 12,
   "metadata": {},
   "outputs": [
    {
     "data": {
      "text/plain": [
       "<matplotlib.legend.Legend at 0x2837054fb70>"
      ]
     },
     "execution_count": 12,
     "metadata": {},
     "output_type": "execute_result"
    },
    {
     "data": {
      "image/png": "[encoded data removed]",
      "text/plain": [
       "<Figure size 432x288 with 1 Axes>"
      ]
     },
     "metadata": {
      "needs_background": "light"
     },
     "output_type": "display_data"
    }
   ],
   "source": [
    "# Subset the iris dataset by species\n",
    "notpaid = df[df['not.fully.paid'] == 1]\n",
    "paid =  df[df['not.fully.paid'] == 0]\n",
    "\n",
    "# Draw the two density plots\n",
    "ax = sns.distplot(notpaid.fico, bins=15, color=\"r\", label='not paid')\n",
    "ax = sns.distplot(paid.fico, bins=15, color=\"b\", label='paid')\n",
    "\n",
    "ax.legend(loc='upper right')"
   ]
  },
  {
   "cell_type": "markdown",
   "metadata": {},
   "source": [
    "# split dataset into train and validation sets"
   ]
  },
  {
   "cell_type": "code",
   "execution_count": 13,
   "metadata": {},
   "outputs": [],
   "source": [
    "#split dataset into train and validation sets\n",
    "x=df.drop('not.fully.paid',axis=1)\n",
    "y=df['not.fully.paid']\n",
    "x_train_df, x_valid_df, y_train, y_valid = train_test_split(x,y,test_size=0.30,random_state=29)"
   ]
  },
  {
   "cell_type": "code",
   "execution_count": 14,
   "metadata": {},
   "outputs": [],
   "source": [
    "#deal with class imbalance\n",
    "x_train_df = x_train_df[y_train==0].iloc[0:1074].append(x_train_df[y_train==1])\n",
    "y_train = y_train[y_train==0].iloc[0:1074].append(y_train[y_train==1])"
   ]
  },
  {
   "cell_type": "code",
   "execution_count": 15,
   "metadata": {},
   "outputs": [],
   "source": [
    "from sklearn.utils import shuffle\n",
    "x_train_df, y_train = shuffle(x_train_df, y_train, random_state=0)"
   ]
  },
  {
   "cell_type": "code",
   "execution_count": 16,
   "metadata": {},
   "outputs": [],
   "source": [
    "#reset indexes to start from zero\n",
    "x_train_df.reset_index(inplace=True, drop=True)\n",
    "x_valid_df.reset_index(inplace=True, drop=True)\n",
    "y_train.reset_index(inplace=True, drop=True)\n",
    "y_valid.reset_index(inplace=True, drop=True)"
   ]
  },
  {
   "cell_type": "markdown",
   "metadata": {},
   "source": [
    "# Data preparation & transformation"
   ]
  },
  {
   "cell_type": "code",
   "execution_count": 17,
   "metadata": {},
   "outputs": [
    {
     "name": "stderr",
     "output_type": "stream",
     "text": [
      "F:\\MLProjects\\envconda\\lib\\site-packages\\sklearn\\preprocessing\\data.py:645: DataConversionWarning: Data with input dtype int64, float64 were all converted to float64 by StandardScaler.\n",
      "  return self.partial_fit(X, y)\n",
      "F:\\MLProjects\\envconda\\lib\\site-packages\\sklearn\\base.py:464: DataConversionWarning: Data with input dtype int64, float64 were all converted to float64 by StandardScaler.\n",
      "  return self.fit(X, **fit_params).transform(X)\n"
     ]
    }
   ],
   "source": [
    "new_df = x_train_df.copy()\n",
    "#convert categorial data to One Hot Encoding \n",
    "new_df =pd.get_dummies(new_df,columns=['purpose'])\n",
    "\n",
    "#Standardize non-cat features by removing the mean and scaling to unit variance\n",
    "cols=['int.rate', 'installment', 'log.annual.inc','dti', 'fico', 'days.with.cr.line',\n",
    "      'revol.bal', 'revol.util','inq.last.6mths', 'delinq.2yrs', 'pub.rec']\n",
    "scaler=StandardScaler()\n",
    "tr_cols= scaler.fit_transform(new_df[cols])\n",
    "new_df[cols] = tr_cols"
   ]
  },
  {
   "cell_type": "code",
   "execution_count": 18,
   "metadata": {},
   "outputs": [
    {
     "name": "stderr",
     "output_type": "stream",
     "text": [
      "F:\\MLProjects\\envconda\\lib\\site-packages\\ipykernel_launcher.py:7: DataConversionWarning: Data with input dtype int64, float64 were all converted to float64 by StandardScaler.\n",
      "  import sys\n"
     ]
    }
   ],
   "source": [
    "#transform valid data to prevent leaks from valid to training\n",
    "new_df_valid = x_valid_df.copy()\n",
    "#convert categorial data to One Hot Encoding \n",
    "new_df_valid =pd.get_dummies(new_df_valid,columns=['purpose'])\n",
    "\n",
    "#scaler:  use the scaler from training part\n",
    "tr_cols= scaler.transform(new_df_valid[cols])\n",
    "new_df_valid[cols] = tr_cols"
   ]
  },
  {
   "cell_type": "markdown",
   "metadata": {},
   "source": [
    "# Training"
   ]
  },
  {
   "cell_type": "code",
   "execution_count": 19,
   "metadata": {},
   "outputs": [
    {
     "data": {
      "text/plain": [
       "DecisionTreeClassifier(class_weight=None, criterion='gini', max_depth=None,\n",
       "            max_features=None, max_leaf_nodes=None,\n",
       "            min_impurity_decrease=0.0, min_impurity_split=None,\n",
       "            min_samples_leaf=1, min_samples_split=2,\n",
       "            min_weight_fraction_leaf=0.0, presort=False, random_state=None,\n",
       "            splitter='best')"
      ]
     },
     "execution_count": 19,
     "metadata": {},
     "output_type": "execute_result"
    }
   ],
   "source": [
    "#defining the classificaation algorithm\n",
    "from sklearn.tree import DecisionTreeClassifier\n",
    "clf = DecisionTreeClassifier()\n",
    "clf.fit(new_df,y_train)"
   ]
  },
  {
   "cell_type": "code",
   "execution_count": 20,
   "metadata": {},
   "outputs": [],
   "source": [
    "#evaluate the model\n",
    "predicts=clf.predict(new_df_valid)"
   ]
  },
  {
   "cell_type": "code",
   "execution_count": 21,
   "metadata": {},
   "outputs": [
    {
     "name": "stdout",
     "output_type": "stream",
     "text": [
      "              precision    recall  f1-score   support\n",
      "\n",
      "           0       0.87      0.57      0.69      2415\n",
      "           1       0.19      0.54      0.28       459\n",
      "\n",
      "   micro avg       0.56      0.56      0.56      2874\n",
      "   macro avg       0.53      0.55      0.48      2874\n",
      "weighted avg       0.76      0.56      0.62      2874\n",
      "\n",
      "[[1376 1039]\n",
      " [ 213  246]]\n"
     ]
    }
   ],
   "source": [
    "print(classification_report(y_valid, predicts))\n",
    "print(confusion_matrix(y_valid,predicts))"
   ]
  },
  {
   "cell_type": "code",
   "execution_count": null,
   "metadata": {},
   "outputs": [],
   "source": []
  },
  {
   "cell_type": "markdown",
   "metadata": {},
   "source": [
    "#Random Forest Model training"
   ]
  },
  {
   "cell_type": "code",
   "execution_count": 22,
   "metadata": {},
   "outputs": [
    {
     "data": {
      "text/plain": [
       "RandomForestClassifier(bootstrap=False, class_weight=None, criterion='gini',\n",
       "            max_depth=2, max_features='auto', max_leaf_nodes=None,\n",
       "            min_impurity_decrease=0.0, min_impurity_split=None,\n",
       "            min_samples_leaf=1, min_samples_split=2,\n",
       "            min_weight_fraction_leaf=0.0, n_estimators=400, n_jobs=4,\n",
       "            oob_score=False, random_state=32, verbose=0, warm_start=False)"
      ]
     },
     "execution_count": 22,
     "metadata": {},
     "output_type": "execute_result"
    }
   ],
   "source": [
    "#Random Forest Model training\n",
    "from sklearn.ensemble import RandomForestClassifier\n",
    "rfcModel=RandomForestClassifier(bootstrap=False, class_weight=None, criterion='gini',\n",
    "            max_depth=2, max_features='auto', max_leaf_nodes=None,\n",
    "            min_impurity_decrease=0.0, min_impurity_split=None,\n",
    "            min_samples_leaf=1, min_samples_split=2,\n",
    "            min_weight_fraction_leaf=0.0, n_estimators=400, n_jobs=4,\n",
    "            oob_score=False, random_state=32, verbose=0,\n",
    "            warm_start=False)\n",
    "\n",
    "rfcModel.fit(new_df,y_train)"
   ]
  },
  {
   "cell_type": "code",
   "execution_count": 23,
   "metadata": {},
   "outputs": [
    {
     "name": "stdout",
     "output_type": "stream",
     "text": [
      "              precision    recall  f1-score   support\n",
      "\n",
      "           0       0.87      0.57      0.69      2415\n",
      "           1       0.19      0.54      0.28       459\n",
      "\n",
      "   micro avg       0.56      0.56      0.56      2874\n",
      "   macro avg       0.53      0.55      0.48      2874\n",
      "weighted avg       0.76      0.56      0.62      2874\n",
      "\n",
      "[[1376 1039]\n",
      " [ 213  246]]\n"
     ]
    }
   ],
   "source": [
    "#Evaluation of random forest\n",
    "predictions=rfcModel.predict(new_df_valid)\n",
    "print(classification_report(y_valid, predicts))\n",
    "print(confusion_matrix(y_valid,predicts))"
   ]
  },
  {
   "cell_type": "code",
   "execution_count": null,
   "metadata": {},
   "outputs": [],
   "source": []
  },
  {
   "cell_type": "code",
   "execution_count": null,
   "metadata": {},
   "outputs": [],
   "source": []
  },
  {
   "cell_type": "markdown",
   "metadata": {},
   "source": [
    "# LightGBM"
   ]
  },
  {
   "cell_type": "code",
   "execution_count": 24,
   "metadata": {},
   "outputs": [],
   "source": [
    "import lightgbm\n",
    "# create dataset for lightgbm\n",
    "#lgb_train = lightgbm.Dataset(new_df,y_train)\n",
    "#lgb_eval = lightgbm.Dataset(new_df_valid, y_valid, reference=lgb_train)"
   ]
  },
  {
   "cell_type": "code",
   "execution_count": 25,
   "metadata": {},
   "outputs": [
    {
     "data": {
      "text/plain": [
       "LGBMClassifier(boosting_type='gbdt', class_weight=None, colsample_bytree=1.0,\n",
       "        importance_type='split', learning_rate=0.01, max_depth=-1,\n",
       "        min_child_samples=20, min_child_weight=0.001, min_split_gain=0.0,\n",
       "        n_estimators=400, n_jobs=-1, num_leaves=31, objective='binary',\n",
       "        random_state=26, reg_alpha=0.0, reg_lambda=0.0, silent=False,\n",
       "        subsample=1.0, subsample_for_bin=200000, subsample_freq=0)"
      ]
     },
     "execution_count": 25,
     "metadata": {},
     "output_type": "execute_result"
    }
   ],
   "source": [
    "lgbm_params = {'objective': 'binary',\n",
    "               'metric': ['binary_logloss', 'auc'],\n",
    "               'learning_rate' : 0.02,\n",
    "               'num_leaves' : 76,\n",
    "               'feature_fraction': 0.64, \n",
    "               'bagging_fraction': 0.8, \n",
    "              'bagging_freq':1,\n",
    "               'boosting_type' : 'gbdt',\n",
    "               'verbose': 0,\n",
    "               \"nthread\": 4,\n",
    "               \"random_state\": 25}\n",
    "\n",
    "\n",
    "\n",
    "\n",
    "# Construct a gradient boosting model\n",
    "gbm_model = lightgbm.LGBMClassifier(boosting_type='gbdt', num_leaves=31, max_depth=-1, \n",
    "                                    learning_rate=0.01, n_estimators=400, subsample_for_bin=200000,\n",
    "                                    objective= 'binary', class_weight=None, min_split_gain=0.0,\n",
    "                                    min_child_weight=0.001, min_child_samples=20, subsample=1.0,\n",
    "                                    subsample_freq=0, colsample_bytree=1.0, reg_alpha=0.0,\n",
    "                                    reg_lambda=0.0, random_state=26, n_jobs=-1,\n",
    "                                    silent=False, importance_type='split')\n",
    "\n",
    "gbm_model.fit(new_df,y_train)"
   ]
  },
  {
   "cell_type": "code",
   "execution_count": 26,
   "metadata": {},
   "outputs": [],
   "source": [
    "predicts_prb = gbm_model.predict(new_df_valid)\n",
    "predicts = np.round(predicts_prb)"
   ]
  },
  {
   "cell_type": "code",
   "execution_count": 27,
   "metadata": {},
   "outputs": [
    {
     "name": "stdout",
     "output_type": "stream",
     "text": [
      "              precision    recall  f1-score   support\n",
      "\n",
      "           0       0.89      0.58      0.70      2415\n",
      "           1       0.22      0.61      0.32       459\n",
      "\n",
      "   micro avg       0.59      0.59      0.59      2874\n",
      "   macro avg       0.55      0.60      0.51      2874\n",
      "weighted avg       0.78      0.59      0.64      2874\n",
      "\n",
      "[[1412 1003]\n",
      " [ 180  279]]\n"
     ]
    }
   ],
   "source": [
    "print(classification_report(y_valid, predicts))\n",
    "print(confusion_matrix(y_valid,predicts))"
   ]
  },
  {
   "cell_type": "code",
   "execution_count": 28,
   "metadata": {},
   "outputs": [
    {
     "data": {
      "text/plain": [
       "<matplotlib.axes._subplots.AxesSubplot at 0x28370c27860>"
      ]
     },
     "execution_count": 28,
     "metadata": {},
     "output_type": "execute_result"
    },
    {
     "data": {
      "image/png": "[encoded data removed]",
      "text/plain": [
       "<Figure size 432x288 with 1 Axes>"
      ]
     },
     "metadata": {
      "needs_background": "light"
     },
     "output_type": "display_data"
    }
   ],
   "source": [
    "sns.distplot(predicts)"
   ]
  },
  {
   "cell_type": "code",
   "execution_count": null,
   "metadata": {},
   "outputs": [],
   "source": []
  },
  {
   "cell_type": "markdown",
   "metadata": {},
   "source": [
    "# using Grid-search to tune the hyperparameters to their opimal values"
   ]
  },
  {
   "cell_type": "code",
   "execution_count": 29,
   "metadata": {},
   "outputs": [],
   "source": [
    "#because not giving the loan to risky customers is much more important than to give loan\n",
    "#to normal customers, our goal is to reduce the False Negatives,or increaseing the recall for class 1"
   ]
  },
  {
   "cell_type": "code",
   "execution_count": 30,
   "metadata": {},
   "outputs": [
    {
     "data": {
      "text/plain": [
       "GridSearchCV(cv=5, error_score='raise-deprecating',\n",
       "       estimator=LGBMClassifier(boosting_type='gbdt', class_weight=None, colsample_bytree=1.0,\n",
       "        importance_type='split', learning_rate=0.01, max_depth=-1,\n",
       "        min_child_samples=20, min_child_weight=0.001, min_split_gain=0.0,\n",
       "        n_estimators=400, n_jobs=-1, num_leaves=31, objective='binary',\n",
       "        random_state=26, reg_alpha=0.0, reg_lambda=0.0, silent=False,\n",
       "        subsample=1.0, subsample_for_bin=200000, subsample_freq=0),\n",
       "       fit_params=None, iid='warn', n_jobs=-1,\n",
       "       param_grid={'objective': ['binary'], 'num_leaves': [20, 10], 'max_depth': [-1], 'learning_rate': [0.05], 'n_estimators': [100], 'subsample': [1.0, 0.7, 0.6], 'colsample_bytree': [0.7, 0.6], 'reg_alpha': [1.2, 1.1], 'reg_lambda': [0.0]},\n",
       "       pre_dispatch='2*n_jobs', refit='roc_auc', return_train_score='warn',\n",
       "       scoring=['recall', 'precision', 'f1_macro', 'roc_auc'], verbose=0)"
      ]
     },
     "execution_count": 30,
     "metadata": {},
     "output_type": "execute_result"
    }
   ],
   "source": [
    "from sklearn.model_selection import GridSearchCV\n",
    "# Construct a gradient boosting model\n",
    "gbm_model = lightgbm.LGBMClassifier(boosting_type='gbdt', num_leaves=31, max_depth=-1, \n",
    "                                    learning_rate=0.01, n_estimators=400, subsample_for_bin=200000,\n",
    "                                    objective= 'binary', class_weight=None, min_split_gain=0.0,\n",
    "                                    min_child_weight=0.001, min_child_samples=20, subsample=1.0,\n",
    "                                    subsample_freq=0, colsample_bytree=1.0, reg_alpha=0.0,\n",
    "                                    reg_lambda=0.0, random_state=26, n_jobs=-1,\n",
    "                                    silent=False, importance_type='split')\n",
    "\n",
    "\n",
    "#define Grid-search parameters\n",
    "gridParams = {\n",
    "    'objective': ['binary'],\n",
    "    'num_leaves': [20,10],\n",
    "    'max_depth':[-1], \n",
    "    'learning_rate':[0.05],\n",
    "    'n_estimators':[100],\n",
    "    'subsample':[1.0,0.7,0.6],\n",
    "    'colsample_bytree':[0.7,0.6],\n",
    "    'reg_alpha':[1.2,1.1],\n",
    "    'reg_lambda':[0.0]\n",
    "}\n",
    "\n",
    "\n",
    "scoring = ['recall','precision','f1_macro','roc_auc']\n",
    "gridGBM = GridSearchCV(gbm_model,\n",
    "                       param_grid = gridParams,\n",
    "                       cv=5, \n",
    "                       refit='roc_auc', #Refit an estimator using the best found parameters on the whole dataset.\n",
    "                       n_jobs=-1,\n",
    "                       scoring = scoring)\n",
    "\n",
    "gridGBM.fit(new_df,y_train)"
   ]
  },
  {
   "cell_type": "code",
   "execution_count": 31,
   "metadata": {},
   "outputs": [],
   "source": [
    "predicts_prob = gridGBM.predict_proba(new_df_valid)\n",
    "#predicts = gridGBM.predict(new_df_valid)"
   ]
  },
  {
   "cell_type": "code",
   "execution_count": 34,
   "metadata": {},
   "outputs": [
    {
     "data": {
      "image/png": "[encoded data removed]",
      "text/plain": [
       "<Figure size 432x288 with 1 Axes>"
      ]
     },
     "metadata": {
      "needs_background": "light"
     },
     "output_type": "display_data"
    }
   ],
   "source": [
    "from sklearn.metrics import roc_curve,auc\n",
    "# Compute ROC curve and ROC area for each class\n",
    "fpr, tpr, _ = roc_curve(y_valid,predicts_prob[:,1])\n",
    "roc_auc = auc(fpr, tpr)\n",
    "\n",
    "plt.figure()\n",
    "lw = 2\n",
    "plt.plot(fpr, tpr, color='red',\n",
    "         lw=lw, label='ROC curve (area = %0.2f)' % roc_auc)\n",
    "plt.plot(fpr, 1-tpr, color='green',\n",
    "         lw=lw, label='FNR vs. FPR')\n",
    "\n",
    "plt.plot([0, 1], [0, 1], color='navy', lw=lw, linestyle='--')\n",
    "plt.xlim([0.0, 1.0])\n",
    "plt.ylim([0.0, 1.05])\n",
    "plt.xlabel('False Positive Rate')\n",
    "plt.ylabel('True Positive Rate')\n",
    "plt.title('Receiver operating characteristic example')\n",
    "plt.legend(loc=\"lower right\")\n",
    "plt.show()"
   ]
  },
  {
   "cell_type": "code",
   "execution_count": 42,
   "metadata": {},
   "outputs": [
    {
     "name": "stdout",
     "output_type": "stream",
     "text": [
      "              precision    recall  f1-score   support\n",
      "\n",
      "           0       0.97      0.06      0.11      2415\n",
      "           1       0.17      0.99      0.29       459\n",
      "\n",
      "   micro avg       0.21      0.21      0.21      2874\n",
      "   macro avg       0.57      0.52      0.20      2874\n",
      "weighted avg       0.84      0.21      0.14      2874\n",
      "\n",
      "[[ 144 2271]\n",
      " [   5  454]]\n"
     ]
    }
   ],
   "source": [
    "predicts = np.round(predicts_prob[:,1]>0.15)  #threshold selection (compromise between FNR and FPR)\n",
    "print(classification_report(y_valid, predicts))\n",
    "print(confusion_matrix(y_valid,predicts))"
   ]
  },
  {
   "cell_type": "code",
   "execution_count": null,
   "metadata": {},
   "outputs": [],
   "source": []
  },
  {
   "cell_type": "code",
   "execution_count": 38,
   "metadata": {},
   "outputs": [],
   "source": [
    "res=pd.DataFrame(gridGBM.cv_results_)\n",
    "#res.sort_values(by=['rank_test_score']).head()"
   ]
  },
  {
   "cell_type": "code",
   "execution_count": 39,
   "metadata": {},
   "outputs": [
    {
     "data": {
      "text/html": [
       "<div>\n",
       "<style scoped>\n",
       "    .dataframe tbody tr th:only-of-type {\n",
       "        vertical-align: middle;\n",
       "    }\n",
       "\n",
       "    .dataframe tbody tr th {\n",
       "        vertical-align: top;\n",
       "    }\n",
       "\n",
       "    .dataframe thead th {\n",
       "        text-align: right;\n",
       "    }\n",
       "</style>\n",
       "<table border=\"1\" class=\"dataframe\">\n",
       "  <thead>\n",
       "    <tr style=\"text-align: right;\">\n",
       "      <th></th>\n",
       "      <th>18</th>\n",
       "      <th>19</th>\n",
       "      <th>20</th>\n",
       "    </tr>\n",
       "  </thead>\n",
       "  <tbody>\n",
       "    <tr>\n",
       "      <th>mean_fit_time</th>\n",
       "      <td>0.179727</td>\n",
       "      <td>0.18353</td>\n",
       "      <td>0.177326</td>\n",
       "    </tr>\n",
       "    <tr>\n",
       "      <th>std_fit_time</th>\n",
       "      <td>0.00338452</td>\n",
       "      <td>0.00712094</td>\n",
       "      <td>0.00495821</td>\n",
       "    </tr>\n",
       "    <tr>\n",
       "      <th>mean_score_time</th>\n",
       "      <td>0.0934669</td>\n",
       "      <td>0.0988705</td>\n",
       "      <td>0.094668</td>\n",
       "    </tr>\n",
       "    <tr>\n",
       "      <th>std_score_time</th>\n",
       "      <td>0.00257823</td>\n",
       "      <td>0.00926736</td>\n",
       "      <td>0.00205992</td>\n",
       "    </tr>\n",
       "    <tr>\n",
       "      <th>param_colsample_bytree</th>\n",
       "      <td>0.6</td>\n",
       "      <td>0.6</td>\n",
       "      <td>0.6</td>\n",
       "    </tr>\n",
       "    <tr>\n",
       "      <th>param_learning_rate</th>\n",
       "      <td>0.05</td>\n",
       "      <td>0.05</td>\n",
       "      <td>0.05</td>\n",
       "    </tr>\n",
       "    <tr>\n",
       "      <th>param_max_depth</th>\n",
       "      <td>-1</td>\n",
       "      <td>-1</td>\n",
       "      <td>-1</td>\n",
       "    </tr>\n",
       "    <tr>\n",
       "      <th>param_n_estimators</th>\n",
       "      <td>100</td>\n",
       "      <td>100</td>\n",
       "      <td>100</td>\n",
       "    </tr>\n",
       "    <tr>\n",
       "      <th>param_num_leaves</th>\n",
       "      <td>10</td>\n",
       "      <td>10</td>\n",
       "      <td>10</td>\n",
       "    </tr>\n",
       "    <tr>\n",
       "      <th>param_objective</th>\n",
       "      <td>binary</td>\n",
       "      <td>binary</td>\n",
       "      <td>binary</td>\n",
       "    </tr>\n",
       "    <tr>\n",
       "      <th>param_reg_alpha</th>\n",
       "      <td>1.2</td>\n",
       "      <td>1.2</td>\n",
       "      <td>1.2</td>\n",
       "    </tr>\n",
       "    <tr>\n",
       "      <th>param_reg_lambda</th>\n",
       "      <td>0</td>\n",
       "      <td>0</td>\n",
       "      <td>0</td>\n",
       "    </tr>\n",
       "    <tr>\n",
       "      <th>param_subsample</th>\n",
       "      <td>1</td>\n",
       "      <td>0.7</td>\n",
       "      <td>0.6</td>\n",
       "    </tr>\n",
       "    <tr>\n",
       "      <th>params</th>\n",
       "      <td>{'colsample_bytree': 0.6, 'learning_rate': 0.0...</td>\n",
       "      <td>{'colsample_bytree': 0.6, 'learning_rate': 0.0...</td>\n",
       "      <td>{'colsample_bytree': 0.6, 'learning_rate': 0.0...</td>\n",
       "    </tr>\n",
       "    <tr>\n",
       "      <th>split0_test_recall</th>\n",
       "      <td>0.660465</td>\n",
       "      <td>0.660465</td>\n",
       "      <td>0.660465</td>\n",
       "    </tr>\n",
       "    <tr>\n",
       "      <th>split1_test_recall</th>\n",
       "      <td>0.637209</td>\n",
       "      <td>0.637209</td>\n",
       "      <td>0.637209</td>\n",
       "    </tr>\n",
       "    <tr>\n",
       "      <th>split2_test_recall</th>\n",
       "      <td>0.595349</td>\n",
       "      <td>0.595349</td>\n",
       "      <td>0.595349</td>\n",
       "    </tr>\n",
       "    <tr>\n",
       "      <th>split3_test_recall</th>\n",
       "      <td>0.627907</td>\n",
       "      <td>0.627907</td>\n",
       "      <td>0.627907</td>\n",
       "    </tr>\n",
       "    <tr>\n",
       "      <th>split4_test_recall</th>\n",
       "      <td>0.64486</td>\n",
       "      <td>0.64486</td>\n",
       "      <td>0.64486</td>\n",
       "    </tr>\n",
       "    <tr>\n",
       "      <th>mean_test_recall</th>\n",
       "      <td>0.633147</td>\n",
       "      <td>0.633147</td>\n",
       "      <td>0.633147</td>\n",
       "    </tr>\n",
       "    <tr>\n",
       "      <th>std_test_recall</th>\n",
       "      <td>0.0217149</td>\n",
       "      <td>0.0217149</td>\n",
       "      <td>0.0217149</td>\n",
       "    </tr>\n",
       "    <tr>\n",
       "      <th>rank_test_recall</th>\n",
       "      <td>1</td>\n",
       "      <td>1</td>\n",
       "      <td>1</td>\n",
       "    </tr>\n",
       "    <tr>\n",
       "      <th>split0_train_recall</th>\n",
       "      <td>0.764843</td>\n",
       "      <td>0.764843</td>\n",
       "      <td>0.764843</td>\n",
       "    </tr>\n",
       "    <tr>\n",
       "      <th>split1_train_recall</th>\n",
       "      <td>0.729919</td>\n",
       "      <td>0.729919</td>\n",
       "      <td>0.729919</td>\n",
       "    </tr>\n",
       "    <tr>\n",
       "      <th>split2_train_recall</th>\n",
       "      <td>0.772992</td>\n",
       "      <td>0.772992</td>\n",
       "      <td>0.772992</td>\n",
       "    </tr>\n",
       "    <tr>\n",
       "      <th>split3_train_recall</th>\n",
       "      <td>0.771828</td>\n",
       "      <td>0.771828</td>\n",
       "      <td>0.771828</td>\n",
       "    </tr>\n",
       "    <tr>\n",
       "      <th>split4_train_recall</th>\n",
       "      <td>0.762791</td>\n",
       "      <td>0.762791</td>\n",
       "      <td>0.762791</td>\n",
       "    </tr>\n",
       "    <tr>\n",
       "      <th>mean_train_recall</th>\n",
       "      <td>0.760474</td>\n",
       "      <td>0.760474</td>\n",
       "      <td>0.760474</td>\n",
       "    </tr>\n",
       "    <tr>\n",
       "      <th>std_train_recall</th>\n",
       "      <td>0.0157715</td>\n",
       "      <td>0.0157715</td>\n",
       "      <td>0.0157715</td>\n",
       "    </tr>\n",
       "    <tr>\n",
       "      <th>split0_test_precision</th>\n",
       "      <td>0.633929</td>\n",
       "      <td>0.633929</td>\n",
       "      <td>0.633929</td>\n",
       "    </tr>\n",
       "    <tr>\n",
       "      <th>...</th>\n",
       "      <td>...</td>\n",
       "      <td>...</td>\n",
       "      <td>...</td>\n",
       "    </tr>\n",
       "    <tr>\n",
       "      <th>split0_test_f1_macro</th>\n",
       "      <td>0.639377</td>\n",
       "      <td>0.639377</td>\n",
       "      <td>0.639377</td>\n",
       "    </tr>\n",
       "    <tr>\n",
       "      <th>split1_test_f1_macro</th>\n",
       "      <td>0.618473</td>\n",
       "      <td>0.618473</td>\n",
       "      <td>0.618473</td>\n",
       "    </tr>\n",
       "    <tr>\n",
       "      <th>split2_test_f1_macro</th>\n",
       "      <td>0.588352</td>\n",
       "      <td>0.588352</td>\n",
       "      <td>0.588352</td>\n",
       "    </tr>\n",
       "    <tr>\n",
       "      <th>split3_test_f1_macro</th>\n",
       "      <td>0.620912</td>\n",
       "      <td>0.620912</td>\n",
       "      <td>0.620912</td>\n",
       "    </tr>\n",
       "    <tr>\n",
       "      <th>split4_test_f1_macro</th>\n",
       "      <td>0.582572</td>\n",
       "      <td>0.582572</td>\n",
       "      <td>0.582572</td>\n",
       "    </tr>\n",
       "    <tr>\n",
       "      <th>mean_test_f1_macro</th>\n",
       "      <td>0.609962</td>\n",
       "      <td>0.609962</td>\n",
       "      <td>0.609962</td>\n",
       "    </tr>\n",
       "    <tr>\n",
       "      <th>std_test_f1_macro</th>\n",
       "      <td>0.0213233</td>\n",
       "      <td>0.0213233</td>\n",
       "      <td>0.0213233</td>\n",
       "    </tr>\n",
       "    <tr>\n",
       "      <th>rank_test_f1_macro</th>\n",
       "      <td>1</td>\n",
       "      <td>1</td>\n",
       "      <td>1</td>\n",
       "    </tr>\n",
       "    <tr>\n",
       "      <th>split0_train_f1_macro</th>\n",
       "      <td>0.747891</td>\n",
       "      <td>0.747891</td>\n",
       "      <td>0.747891</td>\n",
       "    </tr>\n",
       "    <tr>\n",
       "      <th>split1_train_f1_macro</th>\n",
       "      <td>0.741525</td>\n",
       "      <td>0.741525</td>\n",
       "      <td>0.741525</td>\n",
       "    </tr>\n",
       "    <tr>\n",
       "      <th>split2_train_f1_macro</th>\n",
       "      <td>0.751928</td>\n",
       "      <td>0.751928</td>\n",
       "      <td>0.751928</td>\n",
       "    </tr>\n",
       "    <tr>\n",
       "      <th>split3_train_f1_macro</th>\n",
       "      <td>0.749586</td>\n",
       "      <td>0.749586</td>\n",
       "      <td>0.749586</td>\n",
       "    </tr>\n",
       "    <tr>\n",
       "      <th>split4_train_f1_macro</th>\n",
       "      <td>0.755802</td>\n",
       "      <td>0.755802</td>\n",
       "      <td>0.755802</td>\n",
       "    </tr>\n",
       "    <tr>\n",
       "      <th>mean_train_f1_macro</th>\n",
       "      <td>0.749347</td>\n",
       "      <td>0.749347</td>\n",
       "      <td>0.749347</td>\n",
       "    </tr>\n",
       "    <tr>\n",
       "      <th>std_train_f1_macro</th>\n",
       "      <td>0.00472638</td>\n",
       "      <td>0.00472638</td>\n",
       "      <td>0.00472638</td>\n",
       "    </tr>\n",
       "    <tr>\n",
       "      <th>split0_test_roc_auc</th>\n",
       "      <td>0.683353</td>\n",
       "      <td>0.683353</td>\n",
       "      <td>0.683353</td>\n",
       "    </tr>\n",
       "    <tr>\n",
       "      <th>split1_test_roc_auc</th>\n",
       "      <td>0.657999</td>\n",
       "      <td>0.657999</td>\n",
       "      <td>0.657999</td>\n",
       "    </tr>\n",
       "    <tr>\n",
       "      <th>split2_test_roc_auc</th>\n",
       "      <td>0.629227</td>\n",
       "      <td>0.629227</td>\n",
       "      <td>0.629227</td>\n",
       "    </tr>\n",
       "    <tr>\n",
       "      <th>split3_test_roc_auc</th>\n",
       "      <td>0.69179</td>\n",
       "      <td>0.69179</td>\n",
       "      <td>0.69179</td>\n",
       "    </tr>\n",
       "    <tr>\n",
       "      <th>split4_test_roc_auc</th>\n",
       "      <td>0.639139</td>\n",
       "      <td>0.639139</td>\n",
       "      <td>0.639139</td>\n",
       "    </tr>\n",
       "    <tr>\n",
       "      <th>mean_test_roc_auc</th>\n",
       "      <td>0.660321</td>\n",
       "      <td>0.660321</td>\n",
       "      <td>0.660321</td>\n",
       "    </tr>\n",
       "    <tr>\n",
       "      <th>std_test_roc_auc</th>\n",
       "      <td>0.0242585</td>\n",
       "      <td>0.0242585</td>\n",
       "      <td>0.0242585</td>\n",
       "    </tr>\n",
       "    <tr>\n",
       "      <th>rank_test_roc_auc</th>\n",
       "      <td>1</td>\n",
       "      <td>1</td>\n",
       "      <td>1</td>\n",
       "    </tr>\n",
       "    <tr>\n",
       "      <th>split0_train_roc_auc</th>\n",
       "      <td>0.829777</td>\n",
       "      <td>0.829777</td>\n",
       "      <td>0.829777</td>\n",
       "    </tr>\n",
       "    <tr>\n",
       "      <th>split1_train_roc_auc</th>\n",
       "      <td>0.827292</td>\n",
       "      <td>0.827292</td>\n",
       "      <td>0.827292</td>\n",
       "    </tr>\n",
       "    <tr>\n",
       "      <th>split2_train_roc_auc</th>\n",
       "      <td>0.836429</td>\n",
       "      <td>0.836429</td>\n",
       "      <td>0.836429</td>\n",
       "    </tr>\n",
       "    <tr>\n",
       "      <th>split3_train_roc_auc</th>\n",
       "      <td>0.825229</td>\n",
       "      <td>0.825229</td>\n",
       "      <td>0.825229</td>\n",
       "    </tr>\n",
       "    <tr>\n",
       "      <th>split4_train_roc_auc</th>\n",
       "      <td>0.831962</td>\n",
       "      <td>0.831962</td>\n",
       "      <td>0.831962</td>\n",
       "    </tr>\n",
       "    <tr>\n",
       "      <th>mean_train_roc_auc</th>\n",
       "      <td>0.830138</td>\n",
       "      <td>0.830138</td>\n",
       "      <td>0.830138</td>\n",
       "    </tr>\n",
       "    <tr>\n",
       "      <th>std_train_roc_auc</th>\n",
       "      <td>0.00387903</td>\n",
       "      <td>0.00387903</td>\n",
       "      <td>0.00387903</td>\n",
       "    </tr>\n",
       "  </tbody>\n",
       "</table>\n",
       "<p>74 rows × 3 columns</p>\n",
       "</div>"
      ],
      "text/plain": [
       "                                                                       18  \\\n",
       "mean_fit_time                                                    0.179727   \n",
       "std_fit_time                                                   0.00338452   \n",
       "mean_score_time                                                 0.0934669   \n",
       "std_score_time                                                 0.00257823   \n",
       "param_colsample_bytree                                                0.6   \n",
       "param_learning_rate                                                  0.05   \n",
       "param_max_depth                                                        -1   \n",
       "param_n_estimators                                                    100   \n",
       "param_num_leaves                                                       10   \n",
       "param_objective                                                    binary   \n",
       "param_reg_alpha                                                       1.2   \n",
       "param_reg_lambda                                                        0   \n",
       "param_subsample                                                         1   \n",
       "params                  {'colsample_bytree': 0.6, 'learning_rate': 0.0...   \n",
       "split0_test_recall                                               0.660465   \n",
       "split1_test_recall                                               0.637209   \n",
       "split2_test_recall                                               0.595349   \n",
       "split3_test_recall                                               0.627907   \n",
       "split4_test_recall                                                0.64486   \n",
       "mean_test_recall                                                 0.633147   \n",
       "std_test_recall                                                 0.0217149   \n",
       "rank_test_recall                                                        1   \n",
       "split0_train_recall                                              0.764843   \n",
       "split1_train_recall                                              0.729919   \n",
       "split2_train_recall                                              0.772992   \n",
       "split3_train_recall                                              0.771828   \n",
       "split4_train_recall                                              0.762791   \n",
       "mean_train_recall                                                0.760474   \n",
       "std_train_recall                                                0.0157715   \n",
       "split0_test_precision                                            0.633929   \n",
       "...                                                                   ...   \n",
       "split0_test_f1_macro                                             0.639377   \n",
       "split1_test_f1_macro                                             0.618473   \n",
       "split2_test_f1_macro                                             0.588352   \n",
       "split3_test_f1_macro                                             0.620912   \n",
       "split4_test_f1_macro                                             0.582572   \n",
       "mean_test_f1_macro                                               0.609962   \n",
       "std_test_f1_macro                                               0.0213233   \n",
       "rank_test_f1_macro                                                      1   \n",
       "split0_train_f1_macro                                            0.747891   \n",
       "split1_train_f1_macro                                            0.741525   \n",
       "split2_train_f1_macro                                            0.751928   \n",
       "split3_train_f1_macro                                            0.749586   \n",
       "split4_train_f1_macro                                            0.755802   \n",
       "mean_train_f1_macro                                              0.749347   \n",
       "std_train_f1_macro                                             0.00472638   \n",
       "split0_test_roc_auc                                              0.683353   \n",
       "split1_test_roc_auc                                              0.657999   \n",
       "split2_test_roc_auc                                              0.629227   \n",
       "split3_test_roc_auc                                               0.69179   \n",
       "split4_test_roc_auc                                              0.639139   \n",
       "mean_test_roc_auc                                                0.660321   \n",
       "std_test_roc_auc                                                0.0242585   \n",
       "rank_test_roc_auc                                                       1   \n",
       "split0_train_roc_auc                                             0.829777   \n",
       "split1_train_roc_auc                                             0.827292   \n",
       "split2_train_roc_auc                                             0.836429   \n",
       "split3_train_roc_auc                                             0.825229   \n",
       "split4_train_roc_auc                                             0.831962   \n",
       "mean_train_roc_auc                                               0.830138   \n",
       "std_train_roc_auc                                              0.00387903   \n",
       "\n",
       "                                                                       19  \\\n",
       "mean_fit_time                                                     0.18353   \n",
       "std_fit_time                                                   0.00712094   \n",
       "mean_score_time                                                 0.0988705   \n",
       "std_score_time                                                 0.00926736   \n",
       "param_colsample_bytree                                                0.6   \n",
       "param_learning_rate                                                  0.05   \n",
       "param_max_depth                                                        -1   \n",
       "param_n_estimators                                                    100   \n",
       "param_num_leaves                                                       10   \n",
       "param_objective                                                    binary   \n",
       "param_reg_alpha                                                       1.2   \n",
       "param_reg_lambda                                                        0   \n",
       "param_subsample                                                       0.7   \n",
       "params                  {'colsample_bytree': 0.6, 'learning_rate': 0.0...   \n",
       "split0_test_recall                                               0.660465   \n",
       "split1_test_recall                                               0.637209   \n",
       "split2_test_recall                                               0.595349   \n",
       "split3_test_recall                                               0.627907   \n",
       "split4_test_recall                                                0.64486   \n",
       "mean_test_recall                                                 0.633147   \n",
       "std_test_recall                                                 0.0217149   \n",
       "rank_test_recall                                                        1   \n",
       "split0_train_recall                                              0.764843   \n",
       "split1_train_recall                                              0.729919   \n",
       "split2_train_recall                                              0.772992   \n",
       "split3_train_recall                                              0.771828   \n",
       "split4_train_recall                                              0.762791   \n",
       "mean_train_recall                                                0.760474   \n",
       "std_train_recall                                                0.0157715   \n",
       "split0_test_precision                                            0.633929   \n",
       "...                                                                   ...   \n",
       "split0_test_f1_macro                                             0.639377   \n",
       "split1_test_f1_macro                                             0.618473   \n",
       "split2_test_f1_macro                                             0.588352   \n",
       "split3_test_f1_macro                                             0.620912   \n",
       "split4_test_f1_macro                                             0.582572   \n",
       "mean_test_f1_macro                                               0.609962   \n",
       "std_test_f1_macro                                               0.0213233   \n",
       "rank_test_f1_macro                                                      1   \n",
       "split0_train_f1_macro                                            0.747891   \n",
       "split1_train_f1_macro                                            0.741525   \n",
       "split2_train_f1_macro                                            0.751928   \n",
       "split3_train_f1_macro                                            0.749586   \n",
       "split4_train_f1_macro                                            0.755802   \n",
       "mean_train_f1_macro                                              0.749347   \n",
       "std_train_f1_macro                                             0.00472638   \n",
       "split0_test_roc_auc                                              0.683353   \n",
       "split1_test_roc_auc                                              0.657999   \n",
       "split2_test_roc_auc                                              0.629227   \n",
       "split3_test_roc_auc                                               0.69179   \n",
       "split4_test_roc_auc                                              0.639139   \n",
       "mean_test_roc_auc                                                0.660321   \n",
       "std_test_roc_auc                                                0.0242585   \n",
       "rank_test_roc_auc                                                       1   \n",
       "split0_train_roc_auc                                             0.829777   \n",
       "split1_train_roc_auc                                             0.827292   \n",
       "split2_train_roc_auc                                             0.836429   \n",
       "split3_train_roc_auc                                             0.825229   \n",
       "split4_train_roc_auc                                             0.831962   \n",
       "mean_train_roc_auc                                               0.830138   \n",
       "std_train_roc_auc                                              0.00387903   \n",
       "\n",
       "                                                                       20  \n",
       "mean_fit_time                                                    0.177326  \n",
       "std_fit_time                                                   0.00495821  \n",
       "mean_score_time                                                  0.094668  \n",
       "std_score_time                                                 0.00205992  \n",
       "param_colsample_bytree                                                0.6  \n",
       "param_learning_rate                                                  0.05  \n",
       "param_max_depth                                                        -1  \n",
       "param_n_estimators                                                    100  \n",
       "param_num_leaves                                                       10  \n",
       "param_objective                                                    binary  \n",
       "param_reg_alpha                                                       1.2  \n",
       "param_reg_lambda                                                        0  \n",
       "param_subsample                                                       0.6  \n",
       "params                  {'colsample_bytree': 0.6, 'learning_rate': 0.0...  \n",
       "split0_test_recall                                               0.660465  \n",
       "split1_test_recall                                               0.637209  \n",
       "split2_test_recall                                               0.595349  \n",
       "split3_test_recall                                               0.627907  \n",
       "split4_test_recall                                                0.64486  \n",
       "mean_test_recall                                                 0.633147  \n",
       "std_test_recall                                                 0.0217149  \n",
       "rank_test_recall                                                        1  \n",
       "split0_train_recall                                              0.764843  \n",
       "split1_train_recall                                              0.729919  \n",
       "split2_train_recall                                              0.772992  \n",
       "split3_train_recall                                              0.771828  \n",
       "split4_train_recall                                              0.762791  \n",
       "mean_train_recall                                                0.760474  \n",
       "std_train_recall                                                0.0157715  \n",
       "split0_test_precision                                            0.633929  \n",
       "...                                                                   ...  \n",
       "split0_test_f1_macro                                             0.639377  \n",
       "split1_test_f1_macro                                             0.618473  \n",
       "split2_test_f1_macro                                             0.588352  \n",
       "split3_test_f1_macro                                             0.620912  \n",
       "split4_test_f1_macro                                             0.582572  \n",
       "mean_test_f1_macro                                               0.609962  \n",
       "std_test_f1_macro                                               0.0213233  \n",
       "rank_test_f1_macro                                                      1  \n",
       "split0_train_f1_macro                                            0.747891  \n",
       "split1_train_f1_macro                                            0.741525  \n",
       "split2_train_f1_macro                                            0.751928  \n",
       "split3_train_f1_macro                                            0.749586  \n",
       "split4_train_f1_macro                                            0.755802  \n",
       "mean_train_f1_macro                                              0.749347  \n",
       "std_train_f1_macro                                             0.00472638  \n",
       "split0_test_roc_auc                                              0.683353  \n",
       "split1_test_roc_auc                                              0.657999  \n",
       "split2_test_roc_auc                                              0.629227  \n",
       "split3_test_roc_auc                                               0.69179  \n",
       "split4_test_roc_auc                                              0.639139  \n",
       "mean_test_roc_auc                                                0.660321  \n",
       "std_test_roc_auc                                                0.0242585  \n",
       "rank_test_roc_auc                                                       1  \n",
       "split0_train_roc_auc                                             0.829777  \n",
       "split1_train_roc_auc                                             0.827292  \n",
       "split2_train_roc_auc                                             0.836429  \n",
       "split3_train_roc_auc                                             0.825229  \n",
       "split4_train_roc_auc                                             0.831962  \n",
       "mean_train_roc_auc                                               0.830138  \n",
       "std_train_roc_auc                                              0.00387903  \n",
       "\n",
       "[74 rows x 3 columns]"
      ]
     },
     "execution_count": 39,
     "metadata": {},
     "output_type": "execute_result"
    }
   ],
   "source": [
    "res[res['rank_test_recall']==1].T"
   ]
  },
  {
   "cell_type": "code",
   "execution_count": null,
   "metadata": {},
   "outputs": [],
   "source": []
  },
  {
   "cell_type": "code",
   "execution_count": null,
   "metadata": {},
   "outputs": [],
   "source": []
  },
  {
   "cell_type": "code",
   "execution_count": null,
   "metadata": {},
   "outputs": [],
   "source": []
  },
  {
   "cell_type": "code",
   "execution_count": null,
   "metadata": {},
   "outputs": [],
   "source": []
  },
  {
   "cell_type": "code",
   "execution_count": null,
   "metadata": {},
   "outputs": [],
   "source": []
  },
  {
   "cell_type": "code",
   "execution_count": null,
   "metadata": {},
   "outputs": [],
   "source": []
  },
  {
   "cell_type": "code",
   "execution_count": null,
   "metadata": {},
   "outputs": [],
   "source": []
  },
  {
   "cell_type": "code",
   "execution_count": null,
   "metadata": {},
   "outputs": [],
   "source": []
  },
  {
   "cell_type": "code",
   "execution_count": null,
   "metadata": {},
   "outputs": [],
   "source": []
  },
  {
   "cell_type": "code",
   "execution_count": null,
   "metadata": {},
   "outputs": [],
   "source": []
  },
  {
   "cell_type": "code",
   "execution_count": null,
   "metadata": {},
   "outputs": [],
   "source": []
  },
  {
   "cell_type": "code",
   "execution_count": null,
   "metadata": {},
   "outputs": [],
   "source": []
  },
  {
   "cell_type": "code",
   "execution_count": null,
   "metadata": {},
   "outputs": [],
   "source": []
  },
  {
   "cell_type": "raw",
   "metadata": {},
   "source": [
    "from sklearn.preprocessing import OneHotEncoder\n",
    "from sklearn_pandas import DataFrameMapper, cross_val_score\n",
    "mapper = DataFrameMapper([\n",
    "    (['credit.policy'], None),\n",
    "    (['purpose'], OneHotEncoder()),\n",
    "    (['int.rate', 'installment', 'log.annual.inc',\n",
    "      'dti', 'fico', 'days.with.cr.line', 'revol.bal', 'revol.util',\n",
    "      'inq.last.6mths', 'delinq.2yrs', 'pub.rec'], StandardScaler())\n",
    "], df_out=True)\n",
    "mapper.fit_transform(df.copy())\n",
    "pipeline = Pipeline([\n",
    "    ('featurize', mapper),\n",
    "    ('lm', sklearn.linear_model.LinearRegression())])"
   ]
  },
  {
   "cell_type": "code",
   "execution_count": null,
   "metadata": {},
   "outputs": [],
   "source": []
  }
 ],
 "metadata": {
  "kernelspec": {
   "display_name": "Python 3",
   "language": "python",
   "name": "python3"
  },
  "language_info": {
   "codemirror_mode": {
    "name": "ipython",
    "version": 3
   },
   "file_extension": ".py",
   "mimetype": "text/x-python",
   "name": "python",
   "nbconvert_exporter": "python",
   "pygments_lexer": "ipython3",
   "version": "3.6.8"
  }
 },
 "nbformat": 4,
 "nbformat_minor": 2
}
